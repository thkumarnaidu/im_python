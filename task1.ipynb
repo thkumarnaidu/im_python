{
 "cells": [
  {
   "cell_type": "code",
   "execution_count": 12,
   "id": "8389bd75-edf9-4637-8dc3-f62e6895dab6",
   "metadata": {},
   "outputs": [
    {
     "name": "stdout",
     "output_type": "stream",
     "text": [
      "99\n"
     ]
    }
   ],
   "source": [
    "#variables\n",
    "score = 99\n",
    "print (score)"
   ]
  },
  {
   "cell_type": "code",
   "execution_count": 18,
   "id": "4efde278-cc80-4011-8c9f-a4d3c30f07ec",
   "metadata": {},
   "outputs": [
    {
     "name": "stdout",
     "output_type": "stream",
     "text": [
      "PYTHON COURSE FOR BEGINNERS\n",
      "7\n",
      "python course 4 beginners\n",
      "True\n"
     ]
    }
   ],
   "source": [
    "#strings\n",
    "learn = \"python course for beginners\"\n",
    "print (learn.upper())\n",
    "print (learn.find('c'))\n",
    "print (learn.replace('for','4'))\n",
    "print ('course'in learn)"
   ]
  },
  {
   "cell_type": "code",
   "execution_count": 34,
   "id": "e1c5b20a-2c8c-4207-8e6c-cfad55a1cb06",
   "metadata": {},
   "outputs": [
    {
     "name": "stdout",
     "output_type": "stream",
     "text": [
      "8\n"
     ]
    }
   ],
   "source": [
    "#arithmetic operations\n",
    "x=6\n",
    "y=2\n",
    "print (x+y)"
   ]
  },
  {
   "cell_type": "code",
   "execution_count": 35,
   "id": "beb5b824-e4d6-4646-b213-5b3eeb69e591",
   "metadata": {},
   "outputs": [
    {
     "name": "stdout",
     "output_type": "stream",
     "text": [
      "4\n"
     ]
    }
   ],
   "source": [
    "x=6\n",
    "y=2\n",
    "print (x-y)"
   ]
  },
  {
   "cell_type": "code",
   "execution_count": 36,
   "id": "5d0a60e7-0ab6-4124-b52f-e8511ad4f306",
   "metadata": {},
   "outputs": [
    {
     "name": "stdout",
     "output_type": "stream",
     "text": [
      "12\n"
     ]
    }
   ],
   "source": [
    "x=6\n",
    "y=2\n",
    "print (x*y)"
   ]
  },
  {
   "cell_type": "code",
   "execution_count": 37,
   "id": "b8c2ad35-7f2a-4a0a-8b45-867e4689b8bc",
   "metadata": {},
   "outputs": [
    {
     "name": "stdout",
     "output_type": "stream",
     "text": [
      "3.0\n"
     ]
    }
   ],
   "source": [
    "x=6\n",
    "y=2\n",
    "print (x/y)"
   ]
  },
  {
   "cell_type": "code",
   "execution_count": 38,
   "id": "94277fc7-d31a-457f-a925-b18cd58b5f32",
   "metadata": {},
   "outputs": [
    {
     "name": "stdout",
     "output_type": "stream",
     "text": [
      "0\n"
     ]
    }
   ],
   "source": [
    "x=6\n",
    "y=2\n",
    "print (x%y)"
   ]
  },
  {
   "cell_type": "code",
   "execution_count": 19,
   "id": "9a6cd9b9-c14f-4cbc-b2db-48d3d5b344ce",
   "metadata": {},
   "outputs": [
    {
     "name": "stdout",
     "output_type": "stream",
     "text": [
      "False\n",
      "True\n"
     ]
    }
   ],
   "source": [
    "#relational operators\n",
    "x=5\n",
    "y=7\n",
    "print(x>y)\n",
    "print(x<y)"
   ]
  },
  {
   "cell_type": "code",
   "execution_count": 23,
   "id": "45fc188e-57d0-49de-ad9f-88010faad587",
   "metadata": {},
   "outputs": [
    {
     "data": {
      "text/plain": [
       "int"
      ]
     },
     "execution_count": 23,
     "metadata": {},
     "output_type": "execute_result"
    }
   ],
   "source": [
    "#data types\n",
    "a1 =100\n",
    "type(a1)"
   ]
  },
  {
   "cell_type": "code",
   "execution_count": 24,
   "id": "b2e922b4-f2d1-483d-bf94-faf9309ff545",
   "metadata": {},
   "outputs": [
    {
     "data": {
      "text/plain": [
       "float"
      ]
     },
     "execution_count": 24,
     "metadata": {},
     "output_type": "execute_result"
    }
   ],
   "source": [
    "a2=9.8\n",
    "type(a2)"
   ]
  },
  {
   "cell_type": "code",
   "execution_count": 25,
   "id": "e4d3b961-42e2-43c1-93ba-26bc01687de6",
   "metadata": {},
   "outputs": [
    {
     "data": {
      "text/plain": [
       "str"
      ]
     },
     "execution_count": 25,
     "metadata": {},
     "output_type": "execute_result"
    }
   ],
   "source": [
    "a3= \"python\"\n",
    "type(a3)"
   ]
  },
  {
   "cell_type": "code",
   "execution_count": 26,
   "id": "24a4d5cf-596d-4b01-a53d-9cf9e292b4f3",
   "metadata": {},
   "outputs": [
    {
     "data": {
      "text/plain": [
       "bool"
      ]
     },
     "execution_count": 26,
     "metadata": {},
     "output_type": "execute_result"
    }
   ],
   "source": [
    "a4= True\n",
    "type(a4)"
   ]
  },
  {
   "cell_type": "code",
   "execution_count": 28,
   "id": "9dc4f6a2-49ff-47fb-9a5e-b8939623d289",
   "metadata": {},
   "outputs": [
    {
     "name": "stdout",
     "output_type": "stream",
     "text": [
      "P\n",
      "PYTH\n",
      "PYTHON IN MAINFLOW\n",
      "YTHON IN MAINFLO\n"
     ]
    }
   ],
   "source": [
    "#string indexes\n",
    "course=\"PYTHON IN MAINFLOW\"\n",
    "print(course[0])\n",
    "print(course[0:4])\n",
    "print(course[:])\n",
    "print(course[1:-1])"
   ]
  },
  {
   "cell_type": "code",
   "execution_count": 30,
   "id": "a7312a3e-f1f8-4bcc-b4f7-005f35b25a89",
   "metadata": {},
   "outputs": [
    {
     "data": {
      "text/plain": [
       "7"
      ]
     },
     "execution_count": 30,
     "metadata": {},
     "output_type": "execute_result"
    }
   ],
   "source": [
    "#string functions\n",
    "string = \"jupyter\"\n",
    "len(string)"
   ]
  },
  {
   "cell_type": "code",
   "execution_count": 31,
   "id": "13d306b4-a3b5-4a52-9925-9444aed6bbf5",
   "metadata": {},
   "outputs": [
    {
     "data": {
      "text/plain": [
       "'JUPYTER'"
      ]
     },
     "execution_count": 31,
     "metadata": {},
     "output_type": "execute_result"
    }
   ],
   "source": [
    "string.upper()"
   ]
  },
  {
   "cell_type": "code",
   "execution_count": 32,
   "id": "b31cea51-8509-42b4-a25a-50180d3b844a",
   "metadata": {},
   "outputs": [
    {
     "data": {
      "text/plain": [
       "'jupiter'"
      ]
     },
     "execution_count": 32,
     "metadata": {},
     "output_type": "execute_result"
    }
   ],
   "source": [
    "string.replace('y','i')"
   ]
  },
  {
   "cell_type": "code",
   "execution_count": 33,
   "id": "7965c3ee-06ea-4393-b1f4-2bd31ee963fd",
   "metadata": {},
   "outputs": [
    {
     "data": {
      "text/plain": [
       "1"
      ]
     },
     "execution_count": 33,
     "metadata": {},
     "output_type": "execute_result"
    }
   ],
   "source": [
    "string.count('t')"
   ]
  }
 ],
 "metadata": {
  "kernelspec": {
   "display_name": "Python 3 (ipykernel)",
   "language": "python",
   "name": "python3"
  },
  "language_info": {
   "codemirror_mode": {
    "name": "ipython",
    "version": 3
   },
   "file_extension": ".py",
   "mimetype": "text/x-python",
   "name": "python",
   "nbconvert_exporter": "python",
   "pygments_lexer": "ipython3",
   "version": "3.12.3"
  }
 },
 "nbformat": 4,
 "nbformat_minor": 5
}
